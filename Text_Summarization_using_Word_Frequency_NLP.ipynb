{
  "nbformat": 4,
  "nbformat_minor": 0,
  "metadata": {
    "colab": {
      "name": "Text Summarization using Word Frequency - NLP.ipynb",
      "provenance": [],
      "authorship_tag": "ABX9TyOyte0NhWDZrAly0TwGH4Ow",
      "include_colab_link": true
    },
    "kernelspec": {
      "name": "python3",
      "display_name": "Python 3"
    },
    "language_info": {
      "name": "python"
    }
  },
  "cells": [
    {
      "cell_type": "markdown",
      "metadata": {
        "id": "view-in-github",
        "colab_type": "text"
      },
      "source": [
        "<a href=\"https://colab.research.google.com/github/heysouravv/Text-Summarization-using-Word-Frequency-NLP/blob/main/Text_Summarization_using_Word_Frequency_NLP.ipynb\" target=\"_parent\"><img src=\"https://colab.research.google.com/assets/colab-badge.svg\" alt=\"Open In Colab\"/></a>"
      ]
    },
    {
      "cell_type": "code",
      "execution_count": 3,
      "metadata": {
        "id": "A-lGpH570G3o"
      },
      "outputs": [],
      "source": [
        "article_text=\"Just what is agility in the context of software engineering work? Ivar Jacobson [Jac02a] provides a useful discussion: Agility  has become today’s buzzword when describing a modern software process. Everyone is agile. An agile team is a nimble team able to appropriately respond to changes. Change is what software development is very much about. Changes in the software being built, changes to the team members, changes because of new technology, changes of all kinds that may have an impact on the product they build or the project that creates the product. Support for changes should be built-in everything we do in software, something we embrace because it is the heart and soul of software. An agile team recognizes that software is developed by individuals working in teams and that the skills of these people, their ability to collaborate is at the core for the success of the project.In Jacobson’s view, the pervasiveness of change is the primary driver for agility. Software engineers must be quick on their feet if they are to accommodate the rapid changes that Jacobson describes.  But agility is more than an effective response to change. It also encompasses the philosophy espoused in the manifesto noted at the beginning of this chapter. It encourages team structures and attitudes that make communication (among team members, between technologists and business people, between software engineers and their managers) more facile. It emphasizes rapid delivery of operational software and deemphasizes the importance of intermediate work products (not always a good thing); it adopts the customer as a part of the development team and works to eliminate the “us and them” attitude that continues to pervade many software projects; it recognizes that planning in an uncertain world has its limits and that a project plan must be ﬂ exible.  Agility can be applied to any software process. However, to accomplish this, it is essential that the process be designed in a way that allows the project team to adapt tasks and to streamline them, conduct planning in a way that understands the ﬂ uidity of an agile development approach, eliminate all but the most essential work products and keep them lean, and emphasize an incremental delivery strategy that gets working software to the customer as rapidly as feasible for the product type and operational environment. \""
      ]
    },
    {
      "cell_type": "markdown",
      "source": [
        "Import Modules"
      ],
      "metadata": {
        "id": "20Fr8acg0Q2m"
      }
    },
    {
      "cell_type": "code",
      "source": [
        "import re\n",
        "import nltk"
      ],
      "metadata": {
        "id": "hGqHcOfC0TgS"
      },
      "execution_count": 1,
      "outputs": []
    },
    {
      "cell_type": "markdown",
      "source": [
        "Data Preprocessing"
      ],
      "metadata": {
        "id": "Y-qAaCpU0Ys7"
      }
    },
    {
      "cell_type": "code",
      "source": [
        "article_text = article_text.lower()\n",
        "article_text"
      ],
      "metadata": {
        "colab": {
          "base_uri": "https://localhost:8080/",
          "height": 140
        },
        "id": "EW8Ck75u0WNi",
        "outputId": "84d1562d-c7b1-4b84-cb6a-a7cbf9262eb4"
      },
      "execution_count": 4,
      "outputs": [
        {
          "output_type": "execute_result",
          "data": {
            "application/vnd.google.colaboratory.intrinsic+json": {
              "type": "string"
            },
            "text/plain": [
              "'just what is agility in the context of software engineering work? ivar jacobson [jac02a] provides a useful discussion: agility  has become today’s buzzword when describing a modern software process. everyone is agile. an agile team is a nimble team able to appropriately respond to changes. change is what software development is very much about. changes in the software being built, changes to the team members, changes because of new technology, changes of all kinds that may have an impact on the product they build or the project that creates the product. support for changes should be built-in everything we do in software, something we embrace because it is the heart and soul of software. an agile team recognizes that software is developed by individuals working in teams and that the skills of these people, their ability to collaborate is at the core for the success of the project.in jacobson’s view, the pervasiveness of change is the primary driver for agility. software engineers must be quick on their feet if they are to accommodate the rapid changes that jacobson describes.  but agility is more than an effective response to change. it also encompasses the philosophy espoused in the manifesto noted at the beginning of this chapter. it encourages team structures and attitudes that make communication (among team members, between technologists and business people, between software engineers and their managers) more facile. it emphasizes rapid delivery of operational software and deemphasizes the importance of intermediate work products (not always a good thing); it adopts the customer as a part of the development team and works to eliminate the “us and them” attitude that continues to pervade many software projects; it recognizes that planning in an uncertain world has its limits and that a project plan must be ﬂ exible.  agility can be applied to any software process. however, to accomplish this, it is essential that the process be designed in a way that allows the project team to adapt tasks and to streamline them, conduct planning in a way that understands the ﬂ uidity of an agile development approach, eliminate all but the most essential work products and keep them lean, and emphasize an incremental delivery strategy that gets working software to the customer as rapidly as feasible for the product type and operational environment. '"
            ]
          },
          "metadata": {},
          "execution_count": 4
        }
      ]
    },
    {
      "cell_type": "code",
      "source": [
        "# remove spaces, punctuations and numbers\n",
        "clean_text = re.sub('[^a-zA-Z]', ' ', article_text)\n",
        "clean_text = re.sub('\\s+', ' ', clean_text)\n",
        "clean_text"
      ],
      "metadata": {
        "colab": {
          "base_uri": "https://localhost:8080/",
          "height": 140
        },
        "id": "_i31Cg6q0chv",
        "outputId": "38361331-eb2c-4de8-94a3-595e8ff9593d"
      },
      "execution_count": 5,
      "outputs": [
        {
          "output_type": "execute_result",
          "data": {
            "application/vnd.google.colaboratory.intrinsic+json": {
              "type": "string"
            },
            "text/plain": [
              "'just what is agility in the context of software engineering work ivar jacobson jac a provides a useful discussion agility has become today s buzzword when describing a modern software process everyone is agile an agile team is a nimble team able to appropriately respond to changes change is what software development is very much about changes in the software being built changes to the team members changes because of new technology changes of all kinds that may have an impact on the product they build or the project that creates the product support for changes should be built in everything we do in software something we embrace because it is the heart and soul of software an agile team recognizes that software is developed by individuals working in teams and that the skills of these people their ability to collaborate is at the core for the success of the project in jacobson s view the pervasiveness of change is the primary driver for agility software engineers must be quick on their feet if they are to accommodate the rapid changes that jacobson describes but agility is more than an effective response to change it also encompasses the philosophy espoused in the manifesto noted at the beginning of this chapter it encourages team structures and attitudes that make communication among team members between technologists and business people between software engineers and their managers more facile it emphasizes rapid delivery of operational software and deemphasizes the importance of intermediate work products not always a good thing it adopts the customer as a part of the development team and works to eliminate the us and them attitude that continues to pervade many software projects it recognizes that planning in an uncertain world has its limits and that a project plan must be exible agility can be applied to any software process however to accomplish this it is essential that the process be designed in a way that allows the project team to adapt tasks and to streamline them conduct planning in a way that understands the uidity of an agile development approach eliminate all but the most essential work products and keep them lean and emphasize an incremental delivery strategy that gets working software to the customer as rapidly as feasible for the product type and operational environment '"
            ]
          },
          "metadata": {},
          "execution_count": 5
        }
      ]
    },
    {
      "cell_type": "code",
      "source": [
        "nltk.download('punkt')\n",
        "nltk.download('stopwords')"
      ],
      "metadata": {
        "colab": {
          "base_uri": "https://localhost:8080/"
        },
        "id": "43_dOYsF0pCE",
        "outputId": "d7d27d4e-0d2a-4ff6-bada-38f6acb20d57"
      },
      "execution_count": 9,
      "outputs": [
        {
          "output_type": "stream",
          "name": "stdout",
          "text": [
            "[nltk_data] Downloading package punkt to /root/nltk_data...\n",
            "[nltk_data]   Package punkt is already up-to-date!\n",
            "[nltk_data] Downloading package stopwords to /root/nltk_data...\n",
            "[nltk_data]   Unzipping corpora/stopwords.zip.\n"
          ]
        },
        {
          "output_type": "execute_result",
          "data": {
            "text/plain": [
              "True"
            ]
          },
          "metadata": {},
          "execution_count": 9
        }
      ]
    },
    {
      "cell_type": "code",
      "source": [
        "# split into sentence list\n",
        "sentence_list = nltk.sent_tokenize(article_text)\n",
        "sentence_list"
      ],
      "metadata": {
        "colab": {
          "base_uri": "https://localhost:8080/"
        },
        "id": "l1IPhi7p0i8I",
        "outputId": "133bb403-08e7-4ffb-b6d5-61db474814c2"
      },
      "execution_count": 8,
      "outputs": [
        {
          "output_type": "execute_result",
          "data": {
            "text/plain": [
              "['just what is agility in the context of software engineering work?',\n",
              " 'ivar jacobson [jac02a] provides a useful discussion: agility  has become today’s buzzword when describing a modern software process.',\n",
              " 'everyone is agile.',\n",
              " 'an agile team is a nimble team able to appropriately respond to changes.',\n",
              " 'change is what software development is very much about.',\n",
              " 'changes in the software being built, changes to the team members, changes because of new technology, changes of all kinds that may have an impact on the product they build or the project that creates the product.',\n",
              " 'support for changes should be built-in everything we do in software, something we embrace because it is the heart and soul of software.',\n",
              " 'an agile team recognizes that software is developed by individuals working in teams and that the skills of these people, their ability to collaborate is at the core for the success of the project.in jacobson’s view, the pervasiveness of change is the primary driver for agility.',\n",
              " 'software engineers must be quick on their feet if they are to accommodate the rapid changes that jacobson describes.',\n",
              " 'but agility is more than an effective response to change.',\n",
              " 'it also encompasses the philosophy espoused in the manifesto noted at the beginning of this chapter.',\n",
              " 'it encourages team structures and attitudes that make communication (among team members, between technologists and business people, between software engineers and their managers) more facile.',\n",
              " 'it emphasizes rapid delivery of operational software and deemphasizes the importance of intermediate work products (not always a good thing); it adopts the customer as a part of the development team and works to eliminate the “us and them” attitude that continues to pervade many software projects; it recognizes that planning in an uncertain world has its limits and that a project plan must be ﬂ exible.',\n",
              " 'agility can be applied to any software process.',\n",
              " 'however, to accomplish this, it is essential that the process be designed in a way that allows the project team to adapt tasks and to streamline them, conduct planning in a way that understands the ﬂ uidity of an agile development approach, eliminate all but the most essential work products and keep them lean, and emphasize an incremental delivery strategy that gets working software to the customer as rapidly as feasible for the product type and operational environment.']"
            ]
          },
          "metadata": {},
          "execution_count": 8
        }
      ]
    },
    {
      "cell_type": "markdown",
      "source": [
        "Word Frequencies"
      ],
      "metadata": {
        "id": "6YHH8Zr9020l"
      }
    },
    {
      "cell_type": "code",
      "source": [
        "stopwords = nltk.corpus.stopwords.words('english')\n",
        "\n",
        "word_frequencies = {}\n",
        "for word in nltk.word_tokenize(clean_text):\n",
        "    if word not in stopwords:\n",
        "        if word not in word_frequencies:\n",
        "            word_frequencies[word] = 1\n",
        "        else:\n",
        "            word_frequencies[word] += 1"
      ],
      "metadata": {
        "id": "sDhtza_D0mGG"
      },
      "execution_count": 10,
      "outputs": []
    },
    {
      "cell_type": "code",
      "source": [
        "maximum_frequency = max(word_frequencies.values())\n",
        "\n",
        "for word in word_frequencies:\n",
        "    word_frequencies[word] = word_frequencies[word] / maximum_frequency"
      ],
      "metadata": {
        "id": "_x1Ya4gn06av"
      },
      "execution_count": 11,
      "outputs": []
    },
    {
      "cell_type": "markdown",
      "source": [
        "Calculate Sentence Scores"
      ],
      "metadata": {
        "id": "xEUd-XBU0_Ru"
      }
    },
    {
      "cell_type": "code",
      "source": [
        "sentence_scores = {}\n",
        "\n",
        "for sentence in sentence_list:\n",
        "    for word in nltk.word_tokenize(sentence):\n",
        "        if word in word_frequencies and len(sentence.split(' ')) < 30:\n",
        "            if sentence not in sentence_scores:\n",
        "                sentence_scores[sentence] = word_frequencies[word]\n",
        "            else:\n",
        "                sentence_scores[sentence] += word_frequencies[word]"
      ],
      "metadata": {
        "id": "1o8Qecri08nH"
      },
      "execution_count": 12,
      "outputs": []
    },
    {
      "cell_type": "code",
      "source": [
        "word_frequencies"
      ],
      "metadata": {
        "colab": {
          "base_uri": "https://localhost:8080/"
        },
        "id": "s5wYZBZ91CES",
        "outputId": "86c60c8c-5088-4e53-d31b-be232820e51c"
      },
      "execution_count": 13,
      "outputs": [
        {
          "output_type": "execute_result",
          "data": {
            "text/plain": [
              "{'ability': 0.07692307692307693,\n",
              " 'able': 0.07692307692307693,\n",
              " 'accommodate': 0.07692307692307693,\n",
              " 'accomplish': 0.07692307692307693,\n",
              " 'adapt': 0.07692307692307693,\n",
              " 'adopts': 0.07692307692307693,\n",
              " 'agile': 0.3076923076923077,\n",
              " 'agility': 0.38461538461538464,\n",
              " 'allows': 0.07692307692307693,\n",
              " 'also': 0.07692307692307693,\n",
              " 'always': 0.07692307692307693,\n",
              " 'among': 0.07692307692307693,\n",
              " 'applied': 0.07692307692307693,\n",
              " 'approach': 0.07692307692307693,\n",
              " 'appropriately': 0.07692307692307693,\n",
              " 'attitude': 0.07692307692307693,\n",
              " 'attitudes': 0.07692307692307693,\n",
              " 'become': 0.07692307692307693,\n",
              " 'beginning': 0.07692307692307693,\n",
              " 'build': 0.07692307692307693,\n",
              " 'built': 0.15384615384615385,\n",
              " 'business': 0.07692307692307693,\n",
              " 'buzzword': 0.07692307692307693,\n",
              " 'change': 0.23076923076923078,\n",
              " 'changes': 0.5384615384615384,\n",
              " 'chapter': 0.07692307692307693,\n",
              " 'collaborate': 0.07692307692307693,\n",
              " 'communication': 0.07692307692307693,\n",
              " 'conduct': 0.07692307692307693,\n",
              " 'context': 0.07692307692307693,\n",
              " 'continues': 0.07692307692307693,\n",
              " 'core': 0.07692307692307693,\n",
              " 'creates': 0.07692307692307693,\n",
              " 'customer': 0.15384615384615385,\n",
              " 'deemphasizes': 0.07692307692307693,\n",
              " 'delivery': 0.15384615384615385,\n",
              " 'describes': 0.07692307692307693,\n",
              " 'describing': 0.07692307692307693,\n",
              " 'designed': 0.07692307692307693,\n",
              " 'developed': 0.07692307692307693,\n",
              " 'development': 0.23076923076923078,\n",
              " 'discussion': 0.07692307692307693,\n",
              " 'driver': 0.07692307692307693,\n",
              " 'effective': 0.07692307692307693,\n",
              " 'eliminate': 0.15384615384615385,\n",
              " 'embrace': 0.07692307692307693,\n",
              " 'emphasize': 0.07692307692307693,\n",
              " 'emphasizes': 0.07692307692307693,\n",
              " 'encompasses': 0.07692307692307693,\n",
              " 'encourages': 0.07692307692307693,\n",
              " 'engineering': 0.07692307692307693,\n",
              " 'engineers': 0.15384615384615385,\n",
              " 'environment': 0.07692307692307693,\n",
              " 'espoused': 0.07692307692307693,\n",
              " 'essential': 0.15384615384615385,\n",
              " 'everyone': 0.07692307692307693,\n",
              " 'everything': 0.07692307692307693,\n",
              " 'exible': 0.07692307692307693,\n",
              " 'facile': 0.07692307692307693,\n",
              " 'feasible': 0.07692307692307693,\n",
              " 'feet': 0.07692307692307693,\n",
              " 'gets': 0.07692307692307693,\n",
              " 'good': 0.07692307692307693,\n",
              " 'heart': 0.07692307692307693,\n",
              " 'however': 0.07692307692307693,\n",
              " 'impact': 0.07692307692307693,\n",
              " 'importance': 0.07692307692307693,\n",
              " 'incremental': 0.07692307692307693,\n",
              " 'individuals': 0.07692307692307693,\n",
              " 'intermediate': 0.07692307692307693,\n",
              " 'ivar': 0.07692307692307693,\n",
              " 'jac': 0.07692307692307693,\n",
              " 'jacobson': 0.23076923076923078,\n",
              " 'keep': 0.07692307692307693,\n",
              " 'kinds': 0.07692307692307693,\n",
              " 'lean': 0.07692307692307693,\n",
              " 'limits': 0.07692307692307693,\n",
              " 'make': 0.07692307692307693,\n",
              " 'managers': 0.07692307692307693,\n",
              " 'manifesto': 0.07692307692307693,\n",
              " 'many': 0.07692307692307693,\n",
              " 'may': 0.07692307692307693,\n",
              " 'members': 0.15384615384615385,\n",
              " 'modern': 0.07692307692307693,\n",
              " 'much': 0.07692307692307693,\n",
              " 'must': 0.15384615384615385,\n",
              " 'new': 0.07692307692307693,\n",
              " 'nimble': 0.07692307692307693,\n",
              " 'noted': 0.07692307692307693,\n",
              " 'operational': 0.15384615384615385,\n",
              " 'part': 0.07692307692307693,\n",
              " 'people': 0.15384615384615385,\n",
              " 'pervade': 0.07692307692307693,\n",
              " 'pervasiveness': 0.07692307692307693,\n",
              " 'philosophy': 0.07692307692307693,\n",
              " 'plan': 0.07692307692307693,\n",
              " 'planning': 0.15384615384615385,\n",
              " 'primary': 0.07692307692307693,\n",
              " 'process': 0.23076923076923078,\n",
              " 'product': 0.23076923076923078,\n",
              " 'products': 0.15384615384615385,\n",
              " 'project': 0.3076923076923077,\n",
              " 'projects': 0.07692307692307693,\n",
              " 'provides': 0.07692307692307693,\n",
              " 'quick': 0.07692307692307693,\n",
              " 'rapid': 0.15384615384615385,\n",
              " 'rapidly': 0.07692307692307693,\n",
              " 'recognizes': 0.15384615384615385,\n",
              " 'respond': 0.07692307692307693,\n",
              " 'response': 0.07692307692307693,\n",
              " 'skills': 0.07692307692307693,\n",
              " 'software': 1.0,\n",
              " 'something': 0.07692307692307693,\n",
              " 'soul': 0.07692307692307693,\n",
              " 'strategy': 0.07692307692307693,\n",
              " 'streamline': 0.07692307692307693,\n",
              " 'structures': 0.07692307692307693,\n",
              " 'success': 0.07692307692307693,\n",
              " 'support': 0.07692307692307693,\n",
              " 'tasks': 0.07692307692307693,\n",
              " 'team': 0.6153846153846154,\n",
              " 'teams': 0.07692307692307693,\n",
              " 'technologists': 0.07692307692307693,\n",
              " 'technology': 0.07692307692307693,\n",
              " 'thing': 0.07692307692307693,\n",
              " 'today': 0.07692307692307693,\n",
              " 'type': 0.07692307692307693,\n",
              " 'uidity': 0.07692307692307693,\n",
              " 'uncertain': 0.07692307692307693,\n",
              " 'understands': 0.07692307692307693,\n",
              " 'us': 0.07692307692307693,\n",
              " 'useful': 0.07692307692307693,\n",
              " 'view': 0.07692307692307693,\n",
              " 'way': 0.15384615384615385,\n",
              " 'work': 0.23076923076923078,\n",
              " 'working': 0.15384615384615385,\n",
              " 'works': 0.07692307692307693,\n",
              " 'world': 0.07692307692307693}"
            ]
          },
          "metadata": {},
          "execution_count": 13
        }
      ]
    },
    {
      "cell_type": "code",
      "source": [
        "sentence_scores"
      ],
      "metadata": {
        "colab": {
          "base_uri": "https://localhost:8080/"
        },
        "id": "shfr2KfF1EQr",
        "outputId": "e5dae3d7-75c2-4dda-8e58-d69128bc3fdb"
      },
      "execution_count": 14,
      "outputs": [
        {
          "output_type": "execute_result",
          "data": {
            "text/plain": [
              "{'agility can be applied to any software process.': 1.6923076923076925,\n",
              " 'an agile team is a nimble team able to appropriately respond to changes.': 2.3846153846153846,\n",
              " 'but agility is more than an effective response to change.': 0.7692307692307694,\n",
              " 'change is what software development is very much about.': 1.5384615384615385,\n",
              " 'everyone is agile.': 0.38461538461538464,\n",
              " 'it also encompasses the philosophy espoused in the manifesto noted at the beginning of this chapter.': 0.6153846153846154,\n",
              " 'it encourages team structures and attitudes that make communication (among team members, between technologists and business people, between software engineers and their managers) more facile.': 3.4615384615384612,\n",
              " 'ivar jacobson [jac02a] provides a useful discussion: agility  has become today’s buzzword when describing a modern software process.': 2.5384615384615383,\n",
              " 'just what is agility in the context of software engineering work?': 1.7692307692307694,\n",
              " 'software engineers must be quick on their feet if they are to accommodate the rapid changes that jacobson describes.': 2.5384615384615383,\n",
              " 'support for changes should be built-in everything we do in software, something we embrace because it is the heart and soul of software.': 3.0}"
            ]
          },
          "metadata": {},
          "execution_count": 14
        }
      ]
    },
    {
      "cell_type": "markdown",
      "source": [
        "Text Summarization"
      ],
      "metadata": {
        "id": "QP99I57R1L86"
      }
    },
    {
      "cell_type": "code",
      "source": [
        "# get top 5 sentences\n",
        "import heapq\n",
        "summary = heapq.nlargest(5, sentence_scores, key=sentence_scores.get)\n",
        "\n",
        "print(\" \".join(summary))"
      ],
      "metadata": {
        "colab": {
          "base_uri": "https://localhost:8080/"
        },
        "id": "9WgvBV3F1Ip_",
        "outputId": "787fd0d1-6e5f-4c19-e61a-591ce348ae3d"
      },
      "execution_count": 15,
      "outputs": [
        {
          "output_type": "stream",
          "name": "stdout",
          "text": [
            "it encourages team structures and attitudes that make communication (among team members, between technologists and business people, between software engineers and their managers) more facile. support for changes should be built-in everything we do in software, something we embrace because it is the heart and soul of software. ivar jacobson [jac02a] provides a useful discussion: agility  has become today’s buzzword when describing a modern software process. software engineers must be quick on their feet if they are to accommodate the rapid changes that jacobson describes. an agile team is a nimble team able to appropriately respond to changes.\n"
          ]
        }
      ]
    },
    {
      "cell_type": "code",
      "source": [
        ""
      ],
      "metadata": {
        "id": "_JGi0FTo1Olq"
      },
      "execution_count": null,
      "outputs": []
    }
  ]
}